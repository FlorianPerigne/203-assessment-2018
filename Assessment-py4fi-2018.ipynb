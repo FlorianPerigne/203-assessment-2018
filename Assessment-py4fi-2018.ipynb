{
 "cells": [
  {
   "cell_type": "markdown",
   "metadata": {},
   "source": [
    "# 1 - Vega of a European option in BSM model\n",
    "\n",
    "Equation for the Vega of a European option in BSM model:\n",
    "$$\\frac{\\partial C}{\\partial \\sigma}= S_tN(d_1)\\sqrt{T-t}$$\n",
    "where:\n",
    "\n",
    "$$d_1 = \\frac{\\log(S/K) + ( r + \\sigma^2/2)(T-t)}{\\sigma \\sqrt {T-t}}$$\n",
    "\n",
    "N is the cumulative distribution function of the normal variable and is ready to use from Scipy: \n",
    "```python\n",
    "from scipy import stats\n",
    "\n",
    "stats.norm.cdf\n",
    "```\n",
    "\n",
    "__You are asked to complete the bsm_vega function:__"
   ]
  },
  {
   "cell_type": "code",
   "execution_count": null,
   "metadata": {},
   "outputs": [],
   "source": [
    "def bsm_vega(S0, K, T, r, sigma):\n",
    "    ''' Vega of European option in BSM model.\n",
    "    Parameters\n",
    "    ==========\n",
    "    S0 : float\n",
    "    initial stock/index level\n",
    "    K : float\n",
    "    strike price\n",
    "    T : float\n",
    "    maturity date (in year fractions)\n",
    "    r : float\n",
    "    constant risk-free short rate\n",
    "    sigma : float\n",
    "    volatility factor in diffusion term\n",
    "    Returns\n",
    "    =======\n",
    "    vega : float\n",
    "    partial derivative of BSM formula with respect\n",
    "    to sigma, i.e. Vega\n",
    "    '''\n",
    "    # To be completed\n",
    "    "
   ]
  },
  {
   "cell_type": "markdown",
   "metadata": {},
   "source": [
    "# 2 Implied volatility\n",
    "\n",
    "Let's define $C(S_t,K,t,T,r,\\sigma)$ as the Black-Scholes-Merton (1973) pricing formula of a European call option.\n",
    "\n",
    "Consider now that an option quote for a European call option $C^*$ is given. The implied\n",
    "volatility $\\sigma^{imp}$ is the quantity that solves the implicit Equation:\n",
    "$$C(S_t,K,t,T,r,\\sigma^{imp}) = C^*$$\n",
    "\n",
    "There is no closed-form solution to this equation, such that one has to use a numerical\n",
    "solution procedure like the Newton scheme to estimate the correct solution. This\n",
    "scheme iterates, using the first derivative of the relevant function, until a certain number\n",
    "of iterations or a certain degree of precision is reached. \n",
    "Formally, the equation for some starting value $\\sigma_0^{imp}$ is:\n",
    "\n",
    "$$\\sigma_{n+1}^{imp} = \\sigma_{n}^{imp} - \\frac{C(\\sigma_{n}^{imp})-C^*}{\\frac{\\partial C(\\sigma_{n}^{imp})}{\\partial \\sigma_{n}^{imp}}}$$\n"
   ]
  },
  {
   "cell_type": "code",
   "execution_count": 7,
   "metadata": {},
   "outputs": [],
   "source": [
    "def bsm_call_value(S0, K, T, r, sigma):\n",
    "    fake_value = 1\n",
    "    return fake_value"
   ]
  },
  {
   "cell_type": "markdown",
   "metadata": {},
   "source": [
    "bsm_call_value is a fake function, but it's fine!\n",
    "Use this function to implement the Newton scheme and **complete the following function:**"
   ]
  },
  {
   "cell_type": "code",
   "execution_count": null,
   "metadata": {},
   "outputs": [],
   "source": [
    "def bsm_call_imp_vol(S0, K, T, r, C0, sigma_est, it=100):\n",
    "    ''' Implied volatility of European call option in BSM model.\n",
    "    Parameters\n",
    "    ==========\n",
    "    S0 : float\n",
    "    initial stock/index level\n",
    "    K : float\n",
    "    strike price\n",
    "    T : float\n",
    "    maturity date (in year fractions)\n",
    "    r : float\n",
    "    constant risk-free short rate\n",
    "    C0 : float\n",
    "    quote of the European call option\n",
    "    sigma_est : float\n",
    "    estimate of impl. volatility\n",
    "    it : integer\n",
    "    number of iterations\n",
    "    Returns\n",
    "    =======\n",
    "    simga_est : float\n",
    "    numerically estimated implied volatility\n",
    "    '''\n",
    "    # To be completed"
   ]
  },
  {
   "cell_type": "markdown",
   "metadata": {},
   "source": [
    "# 3 A bit of abstraction\n",
    "\n",
    "Print the \"zen of Python\""
   ]
  },
  {
   "cell_type": "code",
   "execution_count": 2,
   "metadata": {},
   "outputs": [],
   "source": [
    "# To be completed"
   ]
  },
  {
   "cell_type": "markdown",
   "metadata": {},
   "source": [
    "What are the pros and cons of Python ?"
   ]
  },
  {
   "cell_type": "code",
   "execution_count": 4,
   "metadata": {},
   "outputs": [],
   "source": [
    "'''\n",
    "Your answer here.\n",
    "'''"
   ]
  },
  {
   "cell_type": "markdown",
   "metadata": {},
   "source": [
    "Why is Python a good fit for finance ?"
   ]
  },
  {
   "cell_type": "code",
   "execution_count": null,
   "metadata": {},
   "outputs": [],
   "source": [
    "'''\n",
    "Your answer here.\n",
    "'''"
   ]
  },
  {
   "cell_type": "markdown",
   "metadata": {},
   "source": [
    "# 4 Binomial tree"
   ]
  },
  {
   "cell_type": "markdown",
   "metadata": {},
   "source": [
    "Bernoulli process: In probability and statistics, a Bernoulli process is a finite or infinite sequence of binary random variables, so it is a discrete-time stochastic process that takes only two values, canonically 0 and 1. The component Bernoulli variables Xᵢ are identically distributed and independent.(Wikipedia)\n",
    "\n",
    "**Goal:** Build a matrix of n rows and $2^n$ columns. Each column represent a path of a Bernoulli process.\n",
    "\n",
    "A method to build this matrix is based on a recurrence sequence:  \n",
    "With a one step path or one draw: $A_1 = \\begin{pmatrix}0 & 1\\end{pmatrix}$\n",
    "\n",
    "Then $A_{n+1}$ is given by the recursive representation:\n",
    "\n",
    "$$A_{n+1} = \\begin{pmatrix} A_n & A_n \\\\ \\begin{matrix} 0 & ... & 0 \\end{matrix} & \\begin{matrix} 1 & ... & 1 \\end{matrix} \\end{pmatrix}$$\n",
    "\n",
    "**Constraint:**\n",
    "In order to limit the memory usage, You are allowed to handle only one numpy array of shape $n$ by $2^n$. No temporary variable is permitted apart from an integer to iterate to n."
   ]
  },
  {
   "cell_type": "code",
   "execution_count": null,
   "metadata": {},
   "outputs": [],
   "source": [
    "import numpy as np\n",
    "\n",
    "def bernoulli(n):\n",
    "    ''' A matrix of Bernoulli process\n",
    "    Parameter\n",
    "    ==========\n",
    "    n: Number of rows\n",
    "    Returns\n",
    "    =======\n",
    "    numpy array of shape (n, 2**n)\n",
    "    '''\n",
    "    a = np.zeros((n, 2**n))\n",
    "    #complete the code\n",
    "    return a\n",
    "\n",
    "#test your code:\n",
    "print(bernoulli(4))"
   ]
  },
  {
   "cell_type": "markdown",
   "metadata": {},
   "source": [
    "# 5 Compute Pi with Monte-Carlo approach\n",
    "Use the rejection method to calculate the number $\\pi$ in a Monte-Carlo approach. Think about a circle of diameter 1 in a square of the same length.\n",
    "Performance and conciseness will be appreciated."
   ]
  },
  {
   "cell_type": "code",
   "execution_count": null,
   "metadata": {},
   "outputs": [],
   "source": [
    "def pi(n):\n",
    "    ''' Compute an approximation of pi\n",
    "    Parameter\n",
    "    ==========\n",
    "    n: Number of iterations\n",
    "    Returns\n",
    "    =======\n",
    "    An approx of pi\n",
    "    '''\n",
    "    #complete the code"
   ]
  },
  {
   "cell_type": "markdown",
   "metadata": {},
   "source": [
    "# 6 Fibonacci Suite\n",
    "Code a **generator** of the Fibonacci suite (1, 1, 2, 3, 5, 8, 11... sum of the 2 prior elements)"
   ]
  },
  {
   "cell_type": "code",
   "execution_count": null,
   "metadata": {},
   "outputs": [],
   "source": [
    "def fibo():\n",
    "    ''' Compute the Fibonacci suite\n",
    "    Parameter\n",
    "    ==========\n",
    "    NA\n",
    "    Returns\n",
    "    =======\n",
    "    A generator of the Fibonacci suite\n",
    "    '''\n",
    "    #complete the code"
   ]
  },
  {
   "cell_type": "markdown",
   "metadata": {},
   "source": [
    "Display the first five elements computed by your function"
   ]
  },
  {
   "cell_type": "code",
   "execution_count": null,
   "metadata": {},
   "outputs": [],
   "source": [
    "# To be completed"
   ]
  },
  {
   "cell_type": "markdown",
   "metadata": {},
   "source": [
    "# 7 Gradient descent"
   ]
  },
  {
   "cell_type": "markdown",
   "metadata": {},
   "source": [
    "Gradient descent is an optimized algorithm to find the minimum of a function. We start with a random point on the function and move in the negative direction of the gradient of the function to reach the local/global minima.  \n",
    "**Goal:** Find the local minima of the function $f(x)={(x+5)}^2$\n",
    "\n",
    "**step 1** Code the function f"
   ]
  },
  {
   "cell_type": "code",
   "execution_count": null,
   "metadata": {},
   "outputs": [],
   "source": [
    "def f(x):\n",
    "    ''' Compute f(x)\n",
    "    Parameter\n",
    "    ==========\n",
    "    x: Float\n",
    "    Returns\n",
    "    =======\n",
    "    f(x)\n",
    "    '''\n",
    "    # To be completed"
   ]
  },
  {
   "cell_type": "markdown",
   "metadata": {},
   "source": [
    "**step 2** Plot this function in order to display its minimum"
   ]
  },
  {
   "cell_type": "code",
   "execution_count": null,
   "metadata": {},
   "outputs": [],
   "source": [
    "# To be completed"
   ]
  },
  {
   "cell_type": "markdown",
   "metadata": {},
   "source": [
    "Use the recursive formula: $x_{n+1}=x_n -speed*\\frac{df(x_n)}{dx}$ to reach the minimum.\n",
    "\n",
    "Stop the iterations when difference between 2 consecutive iterations is less than an epsilon or when a certain number of iterations is reached.\n",
    "\n",
    "**step 3**: code the gradient descent"
   ]
  },
  {
   "cell_type": "code",
   "execution_count": null,
   "metadata": {},
   "outputs": [],
   "source": [
    "def gradient(f, x0, speed, epsilon, it):\n",
    "    ''' Compute a minimum of the function f\n",
    "    Parameter\n",
    "    ==========\n",
    "    f: function\n",
    "    x0: starting value\n",
    "    speed: coefficient applied to the gradient\n",
    "    epsilon: precision\n",
    "    it: maximum number of iteration\n",
    "    Returns\n",
    "    =======\n",
    "    an approx of a minimum\n",
    "    '''\n",
    "    # To be completed"
   ]
  },
  {
   "cell_type": "markdown",
   "metadata": {},
   "source": [
    "**step 4:** test your algorithm with $x_0=3$, $speed=0.01$, $epsilon=0.000001$ and $it=10,000$"
   ]
  },
  {
   "cell_type": "code",
   "execution_count": null,
   "metadata": {},
   "outputs": [],
   "source": [
    "# To be completed"
   ]
  },
  {
   "attachments": {},
   "cell_type": "markdown",
   "metadata": {},
   "source": [
    "# 8 Bitcoin vs dollar historical data\n",
    "\n",
    "Let's define df as a dataframe of daily quotations of BTC vs USD on one month. Actually the quotations are from 2018-11-15 to 2018-12-14 but the timeline is not part of the data:"
   ]
  },
  {
   "cell_type": "code",
   "execution_count": 13,
   "metadata": {},
   "outputs": [],
   "source": [
    "import pandas as pd\n",
    "\n",
    "\n",
    "df = pd.DataFrame({'BTCUSD': [5788.61, 5686.54, 5609.96, 5599.19, 5638.86, 4889.2, 4450.71, 4613.45, 4307.39, 4376.9, 3895.84, 4039.84, 3811.92, 3832.92, 4267.24, 4279.48, 4009.69, 4189.57, 4124.59, 3878.84, 3943.69, 3751.69, 3466.76, 3408.52, 3424.71, 3550.55, 3433.81, 3378.81, 3438.1, 3294.64]})"
   ]
  },
  {
   "cell_type": "markdown",
   "metadata": {},
   "source": [
    "Display the five first rows"
   ]
  },
  {
   "cell_type": "code",
   "execution_count": 17,
   "metadata": {},
   "outputs": [],
   "source": [
    "# To be completed"
   ]
  },
  {
   "cell_type": "markdown",
   "metadata": {},
   "source": [
    "Display the length of this sample"
   ]
  },
  {
   "cell_type": "code",
   "execution_count": 18,
   "metadata": {},
   "outputs": [],
   "source": [
    "# To be completed"
   ]
  },
  {
   "cell_type": "markdown",
   "metadata": {},
   "source": [
    "Display the mean, std deviation, min, max , 4 quartiles"
   ]
  },
  {
   "cell_type": "code",
   "execution_count": 15,
   "metadata": {},
   "outputs": [],
   "source": [
    "# To be completed"
   ]
  },
  {
   "cell_type": "markdown",
   "metadata": {},
   "source": [
    "Display a filtered dataframe with quotes above 5000$"
   ]
  },
  {
   "cell_type": "code",
   "execution_count": 19,
   "metadata": {},
   "outputs": [],
   "source": [
    "# To be completed"
   ]
  },
  {
   "cell_type": "markdown",
   "metadata": {},
   "source": [
    "Add the quotation date as an index to this dataframe and display the five first lines."
   ]
  },
  {
   "cell_type": "code",
   "execution_count": null,
   "metadata": {},
   "outputs": [],
   "source": [
    "# To be completed"
   ]
  },
  {
   "cell_type": "markdown",
   "metadata": {},
   "source": [
    "Display a dataframe with the mean of quotes per month."
   ]
  },
  {
   "cell_type": "code",
   "execution_count": null,
   "metadata": {},
   "outputs": [],
   "source": [
    "# To be completed"
   ]
  },
  {
   "cell_type": "markdown",
   "metadata": {},
   "source": [
    "Plot the quotes"
   ]
  },
  {
   "cell_type": "code",
   "execution_count": null,
   "metadata": {},
   "outputs": [],
   "source": [
    "# To be completed"
   ]
  }
 ],
 "metadata": {
  "kernelspec": {
   "display_name": "Python 3",
   "language": "python",
   "name": "python3"
  },
  "language_info": {
   "codemirror_mode": {
    "name": "ipython",
    "version": 3
   },
   "file_extension": ".py",
   "mimetype": "text/x-python",
   "name": "python",
   "nbconvert_exporter": "python",
   "pygments_lexer": "ipython3",
   "version": "3.7.0"
  }
 },
 "nbformat": 4,
 "nbformat_minor": 2
}
